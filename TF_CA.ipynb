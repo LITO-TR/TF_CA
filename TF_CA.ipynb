{
  "nbformat": 4,
  "nbformat_minor": 0,
  "metadata": {
    "colab": {
      "name": "TF_CA.ipynb",
      "provenance": [],
      "collapsed_sections": []
    },
    "kernelspec": {
      "name": "python3",
      "display_name": "Python 3"
    },
    "language_info": {
      "name": "python"
    }
  },
  "cells": [
    {
      "cell_type": "markdown",
      "source": [
        "HITO-0"
      ],
      "metadata": {
        "id": "l3xduXRaMEWC"
      }
    },
    {
      "cell_type": "code",
      "execution_count": 205,
      "metadata": {
        "id": "5f-NOF-h1pjL"
      },
      "outputs": [],
      "source": [
        "import pandas as pd\n",
        "import numpy as np\n",
        "import networkx as nx\n",
        "import math as ma\n",
        "import json\n",
        "import graphviz as gv\n"
      ]
    },
    {
      "cell_type": "code",
      "source": [
        "url=\"Lima-intersecciones.csv\"\n",
        "df = pd.read_csv(url,sep=';')"
      ],
      "metadata": {
        "id": "aSC9bVSy5fAE"
      },
      "execution_count": 207,
      "outputs": []
    },
    {
      "cell_type": "code",
      "source": [
        "#Graficar\n",
        "def nx2gv(G, weighted=False, params={'rankdir': 'LR', 'size': '6'},\n",
        "          path=None, pathparams={'color':'orangered', 'penwidth': '3'},\n",
        "          nodeinfo=False):\n",
        "  if G.is_directed():\n",
        "    g = gv.Digraph('G')\n",
        "  else:\n",
        "    g = gv.Graph('G')\n",
        "  g.attr(**params)\n",
        "\n",
        "  for u in G.nodes:\n",
        "    if nodeinfo:\n",
        "      g.node(str(u), **dict(G.nodes[u]))\n",
        "    else:\n",
        "      g.node(str(u))\n",
        "\n",
        "  for u, v in G.edges():\n",
        "    if G.is_directed():\n",
        "      pp = pathparams if path and path[v] == u else {}\n",
        "    else:\n",
        "      pp = pathparams if (path and path[v] == u) or (path and path[u] == v) else {}\n",
        "\n",
        "    if weighted:\n",
        "      g.edge(str(u), str(v), f\"{G.edges[u, v]['weight']}\", **pp)\n",
        "    else:\n",
        "      g.edge(str(u), str(v), **pp)\n",
        "      \n",
        "  return g\n",
        "\n",
        "def adjmatrix2gv(G, weighted=False, params={'rankdir': 'LR', 'size': '5'}):\n",
        "  return nx2gv(nx.from_numpy_matrix(G), weighted, params)\n",
        "             \n",
        "def adjlist2gv(G, type='digraph', weighted=False, params={'rankdir': 'LR'}):\n",
        "  digraph = type == 'digraph'\n",
        "  if digraph:\n",
        "    g = gv.Digraph('G')\n",
        "  else:\n",
        "    g = gv.Graph('G')\n",
        "  Gv.attr(**params)\n",
        "\n",
        "  n = len(G)\n",
        "  for i in range(n):\n",
        "    g.node(str(i))\n",
        "             \n",
        "  for u in range(n):\n",
        "    if weighted:\n",
        "      for v, w in range(n):\n",
        "        g.edge(str(u), str(v), str(w))\n",
        "        if digraph:\n",
        "          g.edge(str(v), str(u), str(w))\n",
        "    else:\n",
        "      for v in range(n):\n",
        "        g.edge(str(u), str(v))\n",
        "        if digraph:\n",
        "          g.edge(str(v), str(u))\n",
        "\n",
        "  return g\n",
        "      \n",
        "def path2gv(path, params={'rankdir': 'LR', 'size': '5'}):\n",
        "  g = gv.Digraph('G')\n",
        "  g.attr(**params)\n",
        "              \n",
        "  n = len(path)\n",
        "  for i in range(n):\n",
        "    g.node(str(i))\n",
        "\n",
        "  for v, u in enumerate(path):\n",
        "    if u != -1:\n",
        "      g.edge(str(u), str(v))\n",
        "\n",
        "  return g\n",
        "              \n",
        "def wedges2adjlist(filename: str, type='graph'):\n",
        "  with open(filename) as file:\n",
        "    data = []\n",
        "    n = 0\n",
        "    for line in file:\n",
        "      if line[0] != '#':\n",
        "        data.append([int(x) for x in line.strip().split(',')])\n",
        "        if data[-1][0] > n: n = data[-1][0]\n",
        "        if data[-1][1] > n: n = data[-1][1]\n",
        "\n",
        "  n += 1\n",
        "  G = [[] for _ in range(n)]\n",
        "  for u, v, w in data:\n",
        "    G[u].append((v, w))\n",
        "    if type == 'graph':\n",
        "      G[v].append((u, w))\n",
        "              \n",
        "  return G"
      ],
      "metadata": {
        "id": "1rqq4du-48_X"
      },
      "execution_count": 615,
      "outputs": []
    },
    {
      "cell_type": "code",
      "source": [
        "nomCalle=df['NOMBRE_CALLE'].unique()\n",
        "print('Podemos ver la cantidad de calles: ', len(df),' calles')"
      ],
      "metadata": {
        "id": "dg5nMDrv1zps",
        "colab": {
          "base_uri": "https://localhost:8080/"
        },
        "outputId": "b7f5239f-04ac-4654-ca33-7661231dd6dd"
      },
      "execution_count": 212,
      "outputs": [
        {
          "output_type": "stream",
          "name": "stdout",
          "text": [
            "Podemos ver la cantidad de calles:  84673  calles\n"
          ]
        }
      ]
    },
    {
      "cell_type": "code",
      "source": [
        "#cantidad de intersecciones de una calle\n",
        "intersecciones=dict()\n",
        "print('catidad de intersecciones de una calle')\n",
        "for nom in nomCalle:\n",
        "  intersecciones[nom]=df[df['NOMBRE_CALLE']==nom]\n",
        "  #print(nom,len(intersecciones[nom]))\n"
      ],
      "metadata": {
        "colab": {
          "base_uri": "https://localhost:8080/"
        },
        "id": "fsyk4LJi_Bdb",
        "outputId": "8cf109ee-1081-468d-ec66-4560da16feb0"
      },
      "execution_count": 591,
      "outputs": [
        {
          "output_type": "stream",
          "name": "stdout",
          "text": [
            "catidad de intersecciones de una calle\n"
          ]
        }
      ]
    },
    {
      "cell_type": "code",
      "source": [
        "#Ingrese la calle que sea obtener sus intersecciones\n",
        "no_type_checking=''\n",
        "nom_calle='Plaza 2 de Mayo'"
      ],
      "metadata": {
        "id": "Ra-ZxauF4OAD"
      },
      "execution_count": 507,
      "outputs": []
    },
    {
      "cell_type": "code",
      "source": [
        "iDinterseccion=intersecciones[nom_calle]['ID_COORDENADAS1'].unique()\n",
        "print('Las intersecciones de las calles de ', nom_calle, 'son: ',len(iDinterseccion))\n",
        "print(iDinterseccion)\n"
      ],
      "metadata": {
        "colab": {
          "base_uri": "https://localhost:8080/"
        },
        "id": "4BHYbzXk6xey",
        "outputId": "58130e96-0e3f-4ea0-f3ca-8e7bce5510cd"
      },
      "execution_count": 508,
      "outputs": [
        {
          "output_type": "stream",
          "name": "stdout",
          "text": [
            "Las intersecciones de las calles de  Plaza 2 de Mayo son:  11\n",
            "[ 31035122  31035142  31035109  31035110  31035112  31035113  31035116\n",
            "  31035117 310954401  31035119  31035121]\n"
          ]
        }
      ]
    },
    {
      "cell_type": "code",
      "source": [
        "#Obteniendo coordenada X1\n",
        "X1=intersecciones[nom_calle]['X1'].unique()\n",
        "print(X1)\n"
      ],
      "metadata": {
        "colab": {
          "base_uri": "https://localhost:8080/"
        },
        "id": "IAYac-BEhDV_",
        "outputId": "7b480201-29ac-4fb2-e6b1-e07e86451810"
      },
      "execution_count": 509,
      "outputs": [
        {
          "output_type": "stream",
          "name": "stdout",
          "text": [
            "[-12.0459308 -12.0460958 -12.0461253 -12.0462768 -12.0466033 -12.0466783\n",
            " -12.0466949 -12.0465202 -12.0464537 -12.0462019 -12.0459528]\n"
          ]
        }
      ]
    },
    {
      "cell_type": "code",
      "source": [
        "#Obteniendo coordenada Y1\n",
        "Y1=intersecciones[nom_calle]['Y1'].unique()\n",
        "print(Y1)"
      ],
      "metadata": {
        "colab": {
          "base_uri": "https://localhost:8080/"
        },
        "id": "UnHF9vEEhI6Y",
        "outputId": "0de04761-2777-46f6-8a0b-5f2277fcad6b"
      },
      "execution_count": 510,
      "outputs": [
        {
          "output_type": "stream",
          "name": "stdout",
          "text": [
            "[-77.0427831 -77.0430896 -77.0431113 -77.0431753 -77.0431118 -77.0430483\n",
            " -77.042435  -77.0423222 -77.0423023 -77.0423251 -77.0425923]\n"
          ]
        }
      ]
    },
    {
      "cell_type": "code",
      "source": [
        "#Obteniendo nombre de Id interseccion\n",
        "iDIntersecciones1=intersecciones[nom_calle]['ID_COORDENADAS1'].unique()\n",
        "print('Las intersecciones de la calle', nom_calle, 'son:',len(iDIntersecciones1))\n",
        "print(iDIntersecciones1)"
      ],
      "metadata": {
        "colab": {
          "base_uri": "https://localhost:8080/"
        },
        "id": "kMJUNqYAhdgB",
        "outputId": "f57adf71-6bd1-4b31-f790-cb3141c2f579"
      },
      "execution_count": 522,
      "outputs": [
        {
          "output_type": "stream",
          "name": "stdout",
          "text": [
            "Las intersecciones de la calle Plaza 2 de Mayo son: 11\n",
            "[ 31035122  31035142  31035109  31035110  31035112  31035113  31035116\n",
            "  31035117 310954401  31035119  31035121]\n"
          ]
        }
      ]
    },
    {
      "cell_type": "code",
      "source": [
        "#obteniendo la distancia\n",
        "inicioX=X1[0]\n",
        "inicioY=Y1[0]\n",
        "llegadaX=X1[1]\n",
        "llegadaY=Y1[1]\n",
        "\n",
        "dis=np.sqrt(abs((llegadaX-inicioX)+(llegadaY-inicioY)))\n",
        "inicioX\n",
        "inicioY"
      ],
      "metadata": {
        "colab": {
          "base_uri": "https://localhost:8080/"
        },
        "id": "C2mZJVea4Oi8",
        "outputId": "48c06ec2-add8-4a65-c240-2de819acb0bf"
      },
      "execution_count": 582,
      "outputs": [
        {
          "output_type": "execute_result",
          "data": {
            "text/plain": [
              "-77.0427831"
            ]
          },
          "metadata": {},
          "execution_count": 582
        }
      ]
    },
    {
      "cell_type": "code",
      "source": [
        "Grafo=nx.Graph()\n",
        "size=len(iDIntersecciones1)\n",
        "for i in range(size):\n",
        "  Grafo.add_node(iDIntersecciones1[i])\n",
        "  if(i<size-1):\n",
        "        inicioX=X1[i]\n",
        "        inicioY=Y1[i]\n",
        "        llegadaX=X1[i+1]\n",
        "        llegadaY=Y1[i+1]\n",
        "        dis=np.sqrt(abs((llegadaX-inicioX)+(llegadaY-inicioY)))\n",
        "        Grafo.add_edge(iDIntersecciones1[i],iDIntersecciones1[i+1],weight=dis)\n",
        "        print(inicioX,'/',inicioY)\n",
        "        \n",
        "        print(dis)    \n",
        "        \n",
        "  else:\n",
        "    i=size-1\n"
      ],
      "metadata": {
        "colab": {
          "base_uri": "https://localhost:8080/"
        },
        "id": "zSa_SIWyshuT",
        "outputId": "3448afbc-29fc-4fe8-aa80-d8e25be69bee"
      },
      "execution_count": 590,
      "outputs": [
        {
          "output_type": "stream",
          "name": "stdout",
          "text": [
            "-12.0459308 / -77.0427831\n",
            "0.021714050750766\n",
            "-12.0460958 / -77.0430896\n",
            "0.00715541752835046\n",
            "-12.0461253 / -77.0431113\n",
            "0.014679918255703977\n",
            "-12.0462768 / -77.0431753\n",
            "0.016217274740347065\n",
            "-12.0466033 / -77.0431118\n",
            "0.0033911649901627048\n",
            "-12.0466783 / -77.0430483\n",
            "0.024427443582932314\n",
            "-12.0466949 / -77.042435\n",
            "0.016955824957727933\n",
            "-12.0465202 / -77.0423222\n",
            "0.009295160030744787\n",
            "-12.0464537 / -77.0423023\n",
            "0.015132745950569435\n",
            "-12.0462019 / -77.0423251\n",
            "0.004254409476834498\n"
          ]
        }
      ]
    },
    {
      "cell_type": "code",
      "source": [
        "!apt install libgraphviz-dev\n",
        "!pip install pygraphviz"
      ],
      "metadata": {
        "id": "x_N40vldlo5C"
      },
      "execution_count": null,
      "outputs": []
    },
    {
      "cell_type": "code",
      "source": [
        "import graphviz\n",
        "A = nx.nx_agraph.to_agraph(Grafo)\n",
        "A.layout('dot')\n",
        "graphviz.Source(A.to_string())"
      ],
      "metadata": {
        "id": "Wf7-ixFch4vH"
      },
      "execution_count": null,
      "outputs": []
    },
    {
      "cell_type": "code",
      "source": [
        "nx2gv(Grafo, nodeinfo = True, weighted=True, params={'size':'20'})"
      ],
      "metadata": {
        "colab": {
          "base_uri": "https://localhost:8080/",
          "height": 1000
        },
        "id": "oMybp0EI0pJ4",
        "outputId": "6a8db94b-6003-4606-a948-ccc181939cff"
      },
      "execution_count": 578,
      "outputs": [
        {
          "output_type": "execute_result",
          "data": {
            "text/plain": [
              "<graphviz.dot.Graph at 0x7f163a1b3bd0>"
            ],
            "image/svg+xml": "<?xml version=\"1.0\" encoding=\"UTF-8\" standalone=\"no\"?>\n<!DOCTYPE svg PUBLIC \"-//W3C//DTD SVG 1.1//EN\"\n \"http://www.w3.org/Graphics/SVG/1.1/DTD/svg11.dtd\">\n<!-- Generated by graphviz version 2.40.1 (20161225.0304)\n -->\n<!-- Title: G Pages: 1 -->\n<svg width=\"217pt\" height=\"914pt\"\n viewBox=\"0.00 0.00 216.60 914.00\" xmlns=\"http://www.w3.org/2000/svg\" xmlns:xlink=\"http://www.w3.org/1999/xlink\">\n<g id=\"graph0\" class=\"graph\" transform=\"scale(1 1) rotate(0) translate(4 910)\">\n<title>G</title>\n<polygon fill=\"#ffffff\" stroke=\"transparent\" points=\"-4,4 -4,-910 212.5952,-910 212.5952,4 -4,4\"/>\n<!-- 31035122 -->\n<g id=\"node1\" class=\"node\">\n<title>31035122</title>\n<ellipse fill=\"none\" stroke=\"#000000\" cx=\"54.5952\" cy=\"-888\" rx=\"50.0912\" ry=\"18\"/>\n<text text-anchor=\"middle\" x=\"54.5952\" y=\"-884.3\" font-family=\"Times,serif\" font-size=\"14.00\" fill=\"#000000\">31035122</text>\n</g>\n<!-- 31035142 -->\n<g id=\"node2\" class=\"node\">\n<title>31035142</title>\n<ellipse fill=\"none\" stroke=\"#000000\" cx=\"54.5952\" cy=\"-801\" rx=\"50.0912\" ry=\"18\"/>\n<text text-anchor=\"middle\" x=\"54.5952\" y=\"-797.3\" font-family=\"Times,serif\" font-size=\"14.00\" fill=\"#000000\">31035142</text>\n</g>\n<!-- 31035122&#45;&#45;31035142 -->\n<g id=\"edge1\" class=\"edge\">\n<title>31035122&#45;&#45;31035142</title>\n<path fill=\"none\" stroke=\"#000000\" d=\"M54.5952,-869.9735C54.5952,-855.0422 54.5952,-833.9283 54.5952,-819.0034\"/>\n<text text-anchor=\"middle\" x=\"116.5952\" y=\"-840.8\" font-family=\"Times,serif\" font-size=\"14.00\" fill=\"#000000\">0.021714050750766</text>\n</g>\n<!-- 31035109 -->\n<g id=\"node3\" class=\"node\">\n<title>31035109</title>\n<ellipse fill=\"none\" stroke=\"#000000\" cx=\"54.5952\" cy=\"-714\" rx=\"50.0912\" ry=\"18\"/>\n<text text-anchor=\"middle\" x=\"54.5952\" y=\"-710.3\" font-family=\"Times,serif\" font-size=\"14.00\" fill=\"#000000\">31035109</text>\n</g>\n<!-- 31035142&#45;&#45;31035109 -->\n<g id=\"edge2\" class=\"edge\">\n<title>31035142&#45;&#45;31035109</title>\n<path fill=\"none\" stroke=\"#000000\" d=\"M54.5952,-782.9735C54.5952,-768.0422 54.5952,-746.9283 54.5952,-732.0034\"/>\n<text text-anchor=\"middle\" x=\"124.0952\" y=\"-753.8\" font-family=\"Times,serif\" font-size=\"14.00\" fill=\"#000000\">0.00715541752835046</text>\n</g>\n<!-- 31035110 -->\n<g id=\"node4\" class=\"node\">\n<title>31035110</title>\n<ellipse fill=\"none\" stroke=\"#000000\" cx=\"54.5952\" cy=\"-627\" rx=\"49.2915\" ry=\"18\"/>\n<text text-anchor=\"middle\" x=\"54.5952\" y=\"-623.3\" font-family=\"Times,serif\" font-size=\"14.00\" fill=\"#000000\">31035110</text>\n</g>\n<!-- 31035109&#45;&#45;31035110 -->\n<g id=\"edge3\" class=\"edge\">\n<title>31035109&#45;&#45;31035110</title>\n<path fill=\"none\" stroke=\"#000000\" d=\"M54.5952,-695.9735C54.5952,-681.0422 54.5952,-659.9283 54.5952,-645.0034\"/>\n<text text-anchor=\"middle\" x=\"128.0952\" y=\"-666.8\" font-family=\"Times,serif\" font-size=\"14.00\" fill=\"#000000\">0.014679918255703977</text>\n</g>\n<!-- 31035112 -->\n<g id=\"node5\" class=\"node\">\n<title>31035112</title>\n<ellipse fill=\"none\" stroke=\"#000000\" cx=\"54.5952\" cy=\"-540\" rx=\"49.2915\" ry=\"18\"/>\n<text text-anchor=\"middle\" x=\"54.5952\" y=\"-536.3\" font-family=\"Times,serif\" font-size=\"14.00\" fill=\"#000000\">31035112</text>\n</g>\n<!-- 31035110&#45;&#45;31035112 -->\n<g id=\"edge4\" class=\"edge\">\n<title>31035110&#45;&#45;31035112</title>\n<path fill=\"none\" stroke=\"#000000\" d=\"M54.5952,-608.9735C54.5952,-594.0422 54.5952,-572.9283 54.5952,-558.0034\"/>\n<text text-anchor=\"middle\" x=\"128.0952\" y=\"-579.8\" font-family=\"Times,serif\" font-size=\"14.00\" fill=\"#000000\">0.016217274740347065</text>\n</g>\n<!-- 31035113 -->\n<g id=\"node6\" class=\"node\">\n<title>31035113</title>\n<ellipse fill=\"none\" stroke=\"#000000\" cx=\"54.5952\" cy=\"-453\" rx=\"49.2915\" ry=\"18\"/>\n<text text-anchor=\"middle\" x=\"54.5952\" y=\"-449.3\" font-family=\"Times,serif\" font-size=\"14.00\" fill=\"#000000\">31035113</text>\n</g>\n<!-- 31035112&#45;&#45;31035113 -->\n<g id=\"edge5\" class=\"edge\">\n<title>31035112&#45;&#45;31035113</title>\n<path fill=\"none\" stroke=\"#000000\" d=\"M54.5952,-521.9735C54.5952,-507.0422 54.5952,-485.9283 54.5952,-471.0034\"/>\n<text text-anchor=\"middle\" x=\"131.5952\" y=\"-492.8\" font-family=\"Times,serif\" font-size=\"14.00\" fill=\"#000000\">0.0033911649901627048</text>\n</g>\n<!-- 31035116 -->\n<g id=\"node7\" class=\"node\">\n<title>31035116</title>\n<ellipse fill=\"none\" stroke=\"#000000\" cx=\"54.5952\" cy=\"-366\" rx=\"49.2915\" ry=\"18\"/>\n<text text-anchor=\"middle\" x=\"54.5952\" y=\"-362.3\" font-family=\"Times,serif\" font-size=\"14.00\" fill=\"#000000\">31035116</text>\n</g>\n<!-- 31035113&#45;&#45;31035116 -->\n<g id=\"edge6\" class=\"edge\">\n<title>31035113&#45;&#45;31035116</title>\n<path fill=\"none\" stroke=\"#000000\" d=\"M54.5952,-434.9735C54.5952,-420.0422 54.5952,-398.9283 54.5952,-384.0034\"/>\n<text text-anchor=\"middle\" x=\"128.0952\" y=\"-405.8\" font-family=\"Times,serif\" font-size=\"14.00\" fill=\"#000000\">0.024427443582932314</text>\n</g>\n<!-- 31035117 -->\n<g id=\"node8\" class=\"node\">\n<title>31035117</title>\n<ellipse fill=\"none\" stroke=\"#000000\" cx=\"54.5952\" cy=\"-279\" rx=\"49.2915\" ry=\"18\"/>\n<text text-anchor=\"middle\" x=\"54.5952\" y=\"-275.3\" font-family=\"Times,serif\" font-size=\"14.00\" fill=\"#000000\">31035117</text>\n</g>\n<!-- 31035116&#45;&#45;31035117 -->\n<g id=\"edge7\" class=\"edge\">\n<title>31035116&#45;&#45;31035117</title>\n<path fill=\"none\" stroke=\"#000000\" d=\"M54.5952,-347.9735C54.5952,-333.0422 54.5952,-311.9283 54.5952,-297.0034\"/>\n<text text-anchor=\"middle\" x=\"128.0952\" y=\"-318.8\" font-family=\"Times,serif\" font-size=\"14.00\" fill=\"#000000\">0.016955824957727933</text>\n</g>\n<!-- 310954401 -->\n<g id=\"node9\" class=\"node\">\n<title>310954401</title>\n<ellipse fill=\"none\" stroke=\"#000000\" cx=\"54.5952\" cy=\"-192\" rx=\"54.6905\" ry=\"18\"/>\n<text text-anchor=\"middle\" x=\"54.5952\" y=\"-188.3\" font-family=\"Times,serif\" font-size=\"14.00\" fill=\"#000000\">310954401</text>\n</g>\n<!-- 31035117&#45;&#45;310954401 -->\n<g id=\"edge8\" class=\"edge\">\n<title>31035117&#45;&#45;310954401</title>\n<path fill=\"none\" stroke=\"#000000\" d=\"M54.5952,-260.9735C54.5952,-246.0422 54.5952,-224.9283 54.5952,-210.0034\"/>\n<text text-anchor=\"middle\" x=\"128.0952\" y=\"-231.8\" font-family=\"Times,serif\" font-size=\"14.00\" fill=\"#000000\">0.009295160030744787</text>\n</g>\n<!-- 31035119 -->\n<g id=\"node10\" class=\"node\">\n<title>31035119</title>\n<ellipse fill=\"none\" stroke=\"#000000\" cx=\"54.5952\" cy=\"-105\" rx=\"49.2915\" ry=\"18\"/>\n<text text-anchor=\"middle\" x=\"54.5952\" y=\"-101.3\" font-family=\"Times,serif\" font-size=\"14.00\" fill=\"#000000\">31035119</text>\n</g>\n<!-- 310954401&#45;&#45;31035119 -->\n<g id=\"edge9\" class=\"edge\">\n<title>310954401&#45;&#45;31035119</title>\n<path fill=\"none\" stroke=\"#000000\" d=\"M54.5952,-173.9735C54.5952,-159.0422 54.5952,-137.9283 54.5952,-123.0034\"/>\n<text text-anchor=\"middle\" x=\"128.0952\" y=\"-144.8\" font-family=\"Times,serif\" font-size=\"14.00\" fill=\"#000000\">0.015132745950569435</text>\n</g>\n<!-- 31035121 -->\n<g id=\"node11\" class=\"node\">\n<title>31035121</title>\n<ellipse fill=\"none\" stroke=\"#000000\" cx=\"54.5952\" cy=\"-18\" rx=\"50.0912\" ry=\"18\"/>\n<text text-anchor=\"middle\" x=\"54.5952\" y=\"-14.3\" font-family=\"Times,serif\" font-size=\"14.00\" fill=\"#000000\">31035121</text>\n</g>\n<!-- 31035119&#45;&#45;31035121 -->\n<g id=\"edge10\" class=\"edge\">\n<title>31035119&#45;&#45;31035121</title>\n<path fill=\"none\" stroke=\"#000000\" d=\"M54.5952,-86.9735C54.5952,-72.0422 54.5952,-50.9283 54.5952,-36.0034\"/>\n<text text-anchor=\"middle\" x=\"128.0952\" y=\"-57.8\" font-family=\"Times,serif\" font-size=\"14.00\" fill=\"#000000\">0.004254409476834498</text>\n</g>\n</g>\n</svg>\n"
          },
          "metadata": {},
          "execution_count": 578
        }
      ]
    }
  ]
}